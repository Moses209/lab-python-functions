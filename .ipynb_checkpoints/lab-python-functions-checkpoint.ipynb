{
 "cells": [
  {
   "cell_type": "markdown",
   "id": "25d7736c-ba17-4aff-b6bb-66eba20fbf4e",
   "metadata": {},
   "source": [
    "# Lab | Functions"
   ]
  },
  {
   "cell_type": "markdown",
   "id": "0c581062-8967-4d93-b06e-62833222f930",
   "metadata": {
    "tags": []
   },
   "source": [
    "## Exercise: Managing Customer Orders with Functions\n",
    "\n",
    "In the previous exercise, you improved the code for managing customer orders by using loops and flow control. Now, let's take it a step further and refactor the code by introducing functions.\n",
    "\n",
    "Follow the steps below to complete the exercise:\n",
    "\n",
    "1. Define a function named `initialize_inventory` that takes `products` as a parameter. Inside the function, implement the code for initializing the inventory dictionary using a loop and user input.\n",
    "\n",
    "2. Define a function named `get_customer_orders` that takes no parameters. Inside the function, implement the code for prompting the user to enter the product names using a loop. The function should return the `customer_orders` set.\n",
    "\n",
    "3. Define a function named `update_inventory` that takes `customer_orders` and `inventory` as parameters. Inside the function, implement the code for updating the inventory dictionary based on the customer orders.\n",
    "\n",
    "4. Define a function named `calculate_order_statistics` that takes `customer_orders` and `products` as parameters. Inside the function, implement the code for calculating the order statistics (total products ordered, and percentage of unique products ordered). The function should return these values.\n",
    "\n",
    "5. Define a function named `print_order_statistics` that takes `order_statistics` as a parameter. Inside the function, implement the code for printing the order statistics.\n",
    "\n",
    "6. Define a function named `print_updated_inventory` that takes `inventory` as a parameter. Inside the function, implement the code for printing the updated inventory.\n",
    "\n",
    "7. Call the functions in the appropriate sequence to execute the program and manage customer orders.\n",
    "\n",
    "Hints for functions:\n",
    "\n",
    "- Consider the input parameters required for each function and their return values.\n",
    "- Utilize function parameters and return values to transfer data between functions.\n",
    "- Test your functions individually to ensure they work correctly.\n",
    "\n",
    "\n"
   ]
  },
  {
   "cell_type": "code",
   "execution_count": 19,
   "id": "346010bf-3680-4670-82e0-356938c24042",
   "metadata": {},
   "outputs": [],
   "source": [
    "def initialize_inventory (products):\n",
    "    new_inventory = {}\n",
    "    for item in products:\n",
    "        new_inventory [item] = input(\"how many quantity you want\")\n",
    "    return new_inventory\n",
    "\n",
    "    "
   ]
  },
  {
   "cell_type": "code",
   "execution_count": 21,
   "id": "ef5760cc-d8ad-4f9f-91a0-62fc37c2e312",
   "metadata": {},
   "outputs": [
    {
     "name": "stdin",
     "output_type": "stream",
     "text": [
      "how many quantity you want 5\n",
      "how many quantity you want 5\n",
      "how many quantity you want 5\n",
      "how many quantity you want 5\n",
      "how many quantity you want 5\n"
     ]
    }
   ],
   "source": [
    "new_inventory = initialize_inventory([\"Mug\", \"book\", \"hat\", \"keychain\", \"cup\"])"
   ]
  },
  {
   "cell_type": "code",
   "execution_count": 22,
   "id": "7eb3b51d-5727-41d4-adba-80eb346909d3",
   "metadata": {},
   "outputs": [
    {
     "data": {
      "text/plain": [
       "{'Mug': '5', 'book': '5', 'hat': '5', 'keychain': '5', 'cup': '5'}"
      ]
     },
     "execution_count": 22,
     "metadata": {},
     "output_type": "execute_result"
    }
   ],
   "source": [
    "new_inventory"
   ]
  },
  {
   "cell_type": "code",
   "execution_count": null,
   "id": "559baa47-01db-47d4-b8e9-90bdb26e444b",
   "metadata": {},
   "outputs": [],
   "source": []
  },
  {
   "cell_type": "code",
   "execution_count": null,
   "id": "892ee485-5829-4912-ad0b-49d5f6aa26ea",
   "metadata": {},
   "outputs": [],
   "source": [
    "#Define a function named get_customer_orders that takes no parameters. Inside the function, implement the code for prompting \n",
    "#the user to enter the product names using a loop. The function should return the customer_orders set."
   ]
  },
  {
   "cell_type": "code",
   "execution_count": 41,
   "id": "cdddab5f-2340-4180-b077-ebdad1753db6",
   "metadata": {},
   "outputs": [],
   "source": [
    "def get_customer_orders():\n",
    "    customer_oder = set()\n",
    "    print(\"Enter products that customer wants to order (t-shirt, mug, hat, book, keychain):\")\n",
    "    continue_ordering = True\n",
    "    while continue_ordering:\n",
    "        order = input(\"Enter product name: \")\n",
    "        \n",
    "        if order in products:\n",
    "            customer_orders.add(order)\n",
    "            print(\"Added \" + order + \" to the order.\")\n",
    "        else:\n",
    "            print(\"Invalid product.  select from the available products list.\")\n",
    "            \n",
    "            continue\n",
    "            \n",
    "            add_more = input(\"Incase you want to add another product? (yes/no): \")\n",
    "        if add_more != \"yes\":\n",
    "            continue_ordering = False\n",
    "    \n",
    "    return customer_orders\n"
   ]
  },
  {
   "cell_type": "code",
   "execution_count": null,
   "id": "3e1582e3-8d37-4864-befc-9e8d579b5666",
   "metadata": {},
   "outputs": [],
   "source": []
  },
  {
   "cell_type": "code",
   "execution_count": null,
   "id": "dbf6ff7b-4d6f-482d-b584-736c4f743244",
   "metadata": {},
   "outputs": [],
   "source": [
    "#Define a function named update_inventory that takes customer_orders and inventory as parameters. Inside the function, \n",
    "#implement the code for updating the inventory dictionary based on the customer orders."
   ]
  },
  {
   "cell_type": "code",
   "execution_count": 44,
   "id": "892163a4-76e0-4a8d-916a-72b4b87967c0",
   "metadata": {},
   "outputs": [],
   "source": [
    "def update_inventory(customer_orders, inventory):\n",
    "    print(\"\\nUpdating inventory for ordered products...\")\n",
    "    for product in customer_orders:\n",
    "        inventory[product] = inventory[product] - 1\n",
    "    return inventory"
   ]
  },
  {
   "cell_type": "code",
   "execution_count": null,
   "id": "baac0379-1d1f-4744-898f-a1e94b3b5b58",
   "metadata": {},
   "outputs": [],
   "source": []
  },
  {
   "cell_type": "code",
   "execution_count": null,
   "id": "7da3205e-38d2-466f-bfb0-229f9f68a641",
   "metadata": {},
   "outputs": [],
   "source": [
    "#Define a function named `calculate_order_statistics` that takes `customer_orders` and `products` as parameters. Inside the function,\n",
    "#implement the code for calculating the order statistics (total products ordered, and percentage of unique products ordered). \n",
    "#The function should return these values."
   ]
  },
  {
   "cell_type": "code",
   "execution_count": 49,
   "id": "e8d21d85-c1c4-4764-98e0-af8d078be2a5",
   "metadata": {},
   "outputs": [],
   "source": [
    "def calculate_order_statistics(customer_orders, products):\n",
    "    total_products_ordered = len(customer_orders)\n",
    "    percentage_ordered = (total_products_ordered / len(products)) * 100\n",
    "    return (total_products_ordered, percentage_ordered)"
   ]
  },
  {
   "cell_type": "code",
   "execution_count": null,
   "id": "ed5f8998-7767-4cda-8ab4-41762ab4fc30",
   "metadata": {},
   "outputs": [],
   "source": []
  },
  {
   "cell_type": "code",
   "execution_count": null,
   "id": "bda6e7f4-c59f-43ea-be6b-6414e555536d",
   "metadata": {},
   "outputs": [],
   "source": [
    "#Define a function named `print_order_statistics` that takes `order_statistics` as a parameter. Inside the function,\n",
    "#implement the code for printing the order statistics."
   ]
  },
  {
   "cell_type": "code",
   "execution_count": 54,
   "id": "c8c0cb46-dd6c-4a66-b785-c66968174bdd",
   "metadata": {},
   "outputs": [],
   "source": [
    "def print_order_statistics(order_statistics):\n",
    "    print(\"Order Statistics:\")\n",
    "    print(\"Total Products Ordered: \" + repr(order_statistics[0]))\n",
    "    print(\"Percentage of Products Ordered: \" + repr(order_statistics[1]) + \"%\")"
   ]
  },
  {
   "cell_type": "code",
   "execution_count": null,
   "id": "bf2dd5f6-a132-4582-873c-ac9eee99830d",
   "metadata": {},
   "outputs": [],
   "source": []
  },
  {
   "cell_type": "code",
   "execution_count": null,
   "id": "7700e45d-4c92-4e56-bce7-56beea2956af",
   "metadata": {},
   "outputs": [],
   "source": [
    "#Define a function named `print_updated_inventory` that takes `inventory` as a parameter. Inside the function,\n",
    "#implement the code for printing the updated inventory."
   ]
  },
  {
   "cell_type": "code",
   "execution_count": 58,
   "id": "d373abe6-cb6e-4636-ba81-cb4b360de00c",
   "metadata": {},
   "outputs": [],
   "source": [
    "def print_updated_inventory(inventory):\n",
    "    print(\"Updated Inventory:\")\n",
    "    for product in inventory:\n",
    "        print(product + \": \" + repr(inventory[product]))\n"
   ]
  },
  {
   "cell_type": "code",
   "execution_count": null,
   "id": "61bf5093-c453-4230-b9ee-c07942c71b86",
   "metadata": {},
   "outputs": [],
   "source": []
  }
 ],
 "metadata": {
  "kernelspec": {
   "display_name": "Python 3 (ipykernel)",
   "language": "python",
   "name": "python3"
  },
  "language_info": {
   "codemirror_mode": {
    "name": "ipython",
    "version": 3
   },
   "file_extension": ".py",
   "mimetype": "text/x-python",
   "name": "python",
   "nbconvert_exporter": "python",
   "pygments_lexer": "ipython3",
   "version": "3.12.7"
  }
 },
 "nbformat": 4,
 "nbformat_minor": 5
}
